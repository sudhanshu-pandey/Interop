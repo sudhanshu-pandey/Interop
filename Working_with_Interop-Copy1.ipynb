{
 "cells": [
  {
   "cell_type": "markdown",
   "metadata": {},
   "source": [
    "# Imports"
   ]
  },
  {
   "cell_type": "markdown",
   "metadata": {},
   "source": [
    "### All the interaction with the server will be through get and post, requests library contains methods for get and post\n",
    "Check out:  http://auvsi-suas-competition-interoperability-system.readthedocs.io/en/latest/specification.html\n",
    "\n",
    "For more info about suas server interactions"
   ]
  },
  {
   "cell_type": "code",
   "execution_count": 1,
   "metadata": {
    "collapsed": true
   },
   "outputs": [],
   "source": [
    "import requests\n"
   ]
  },
  {
   "cell_type": "markdown",
   "metadata": {},
   "source": [
    "# Server login \n",
    "### Server login to be made using username and password that will be unique to teams, here it is 'testuser' and 'testpass'\n",
    "### Server returns a cookie that needs to passed for all future get and post request for interactions with the server\n",
    "### Login details to be passed as dictionary in post method as argument along with the url\n",
    "More about post and get at : http://docs.python-requests.org/en/master/user/quickstart/"
   ]
  },
  {
   "cell_type": "code",
   "execution_count": 2,
   "metadata": {
    "collapsed": true
   },
   "outputs": [],
   "source": [
    "idata = {'username':'testuser','password':'testpass'}\n"
   ]
  },
  {
   "cell_type": "markdown",
   "metadata": {},
   "source": [
    "### We will create a session object that automatically stores the cookie for us, so that when in future we are making get and post request there is no need to pass cookie details again"
   ]
  },
  {
   "cell_type": "code",
   "execution_count": 3,
   "metadata": {
    "collapsed": true
   },
   "outputs": [],
   "source": [
    "s = requests.Session()"
   ]
  },
  {
   "cell_type": "code",
   "execution_count": 4,
   "metadata": {},
   "outputs": [
    {
     "data": {
      "text/plain": [
       "<requests.sessions.Session at 0x7fe54d59b160>"
      ]
     },
     "execution_count": 4,
     "metadata": {},
     "output_type": "execute_result"
    }
   ],
   "source": [
    "s"
   ]
  },
  {
   "cell_type": "markdown",
   "metadata": {},
   "source": [
    "### Makin the post request to server at the appropriate url\n",
    "\n",
    "More about url details at :  http://auvsi-suas-competition-interoperability-system.readthedocs.io/en/latest/specification.html"
   ]
  },
  {
   "cell_type": "code",
   "execution_count": 5,
   "metadata": {
    "collapsed": true
   },
   "outputs": [],
   "source": [
    "r = s.post('http://localhost:8000/api/login',idata)"
   ]
  },
  {
   "cell_type": "markdown",
   "metadata": {},
   "source": [
    "### Post request through the session object returns a request object, we can check for status code, content  and cookie status as request_object.status_code, request_object.content and request_object.cookie\n",
    "\n",
    "More about it at : http://docs.python-requests.org/en/master/user/quickstart/"
   ]
  },
  {
   "cell_type": "code",
   "execution_count": 6,
   "metadata": {},
   "outputs": [
    {
     "data": {
      "text/plain": [
       "200"
      ]
     },
     "execution_count": 6,
     "metadata": {},
     "output_type": "execute_result"
    }
   ],
   "source": [
    "r.status_code"
   ]
  },
  {
   "cell_type": "code",
   "execution_count": 7,
   "metadata": {},
   "outputs": [
    {
     "data": {
      "text/plain": [
       "b'Login Successful.'"
      ]
     },
     "execution_count": 7,
     "metadata": {},
     "output_type": "execute_result"
    }
   ],
   "source": [
    "r.content"
   ]
  },
  {
   "cell_type": "code",
   "execution_count": 8,
   "metadata": {},
   "outputs": [
    {
     "data": {
      "text/plain": [
       "<RequestsCookieJar[Cookie(version=0, name='sessionid', value='22zfosyz9yoczu804rnhqtg34oiozr8r', port=None, port_specified=False, domain='localhost.local', domain_specified=False, domain_initial_dot=False, path='/', path_specified=True, secure=False, expires=1513695075, discard=False, comment=None, comment_url=None, rest={'httponly': None}, rfc2109=False)]>"
      ]
     },
     "execution_count": 8,
     "metadata": {},
     "output_type": "execute_result"
    }
   ],
   "source": [
    "r.cookies"
   ]
  },
  {
   "cell_type": "markdown",
   "metadata": {},
   "source": [
    "# Getting the mission data \n",
    "### Mission data will be obtained from the server by making get request to the server at the appropriate url, and also passing the cookie\n",
    "\n",
    "More about server interaction at :  http://auvsi-suas-competition-interoperability-system.readthedocs.io/en/latest/specification.html"
   ]
  },
  {
   "cell_type": "code",
   "execution_count": 9,
   "metadata": {
    "collapsed": true
   },
   "outputs": [],
   "source": [
    "r1 = s.get('http://localhost:8000/api/missions/1')"
   ]
  },
  {
   "cell_type": "markdown",
   "metadata": {},
   "source": [
    "### We can check if the request was successful by checking the reponse code assosiated with the request object returned by the get request\n"
   ]
  },
  {
   "cell_type": "code",
   "execution_count": 10,
   "metadata": {
    "scrolled": true
   },
   "outputs": [
    {
     "data": {
      "text/plain": [
       "<Response [200]>"
      ]
     },
     "execution_count": 10,
     "metadata": {},
     "output_type": "execute_result"
    }
   ],
   "source": [
    "r1"
   ]
  },
  {
   "cell_type": "markdown",
   "metadata": {},
   "source": [
    "### Mission data is delivered as the json object assosiated with the request object returned by the get request"
   ]
  },
  {
   "cell_type": "code",
   "execution_count": 11,
   "metadata": {},
   "outputs": [
    {
     "data": {
      "text/plain": [
       "{'active': True,\n",
       " 'air_drop_pos': {'latitude': 38.141833, 'longitude': -76.425263},\n",
       " 'emergent_last_known_pos': {'latitude': 38.145823, 'longitude': -76.422396},\n",
       " 'fly_zones': [{'altitude_msl_max': 750.0,\n",
       "   'altitude_msl_min': 0.0,\n",
       "   'boundary_pts': [{'latitude': 38.142544,\n",
       "     'longitude': -76.434088,\n",
       "     'order': 1},\n",
       "    {'latitude': 38.141833, 'longitude': -76.425263, 'order': 2},\n",
       "    {'latitude': 38.144678, 'longitude': -76.427995, 'order': 3}]}],\n",
       " 'home_pos': {'latitude': 38.14792, 'longitude': -76.427995},\n",
       " 'id': 1,\n",
       " 'mission_waypoints': [{'altitude_msl': 200.0,\n",
       "   'latitude': 38.142544,\n",
       "   'longitude': -76.434088,\n",
       "   'order': 1}],\n",
       " 'off_axis_odlc_pos': {'latitude': 38.142544, 'longitude': -76.434088},\n",
       " 'search_grid_points': [{'altitude_msl': 200.0,\n",
       "   'latitude': 38.142544,\n",
       "   'longitude': -76.434088,\n",
       "   'order': 1}]}"
      ]
     },
     "execution_count": 11,
     "metadata": {},
     "output_type": "execute_result"
    }
   ],
   "source": [
    "r1.json()"
   ]
  },
  {
   "cell_type": "markdown",
   "metadata": {},
   "source": [
    "### Useful stackoverflow links:\n",
    "    https://stackoverflow.com/questions/31554771/how-to-use-cookies-in-python-requests\n",
    "    https://stackoverflow.com/questions/31554771/how-to-use-cookies-in-python-requests"
   ]
  },
  {
   "cell_type": "code",
   "execution_count": 12,
   "metadata": {
    "collapsed": true
   },
   "outputs": [],
   "source": [
    "import json"
   ]
  },
  {
   "cell_type": "code",
   "execution_count": 13,
   "metadata": {
    "collapsed": true
   },
   "outputs": [],
   "source": [
    "s_data = {\n",
    "    \"id\": 1,\n",
    "    \"user\": 1,\n",
    "    \"type\": \"standard\",\n",
    "    \"latitude\": 38.1478,\n",
    "    \"longitude\": -76.4275,\n",
    "    \"orientation\": \"n\",\n",
    "    \"shape\": \"star\",\n",
    "    \"background_color\": \"orange\",\n",
    "    \"alphanumeric\": \"O\",\n",
    "    \"alphanumeric_color\": \"black\",\n",
    "    \"description\": None,\n",
    "    \"autonomous\": False\n",
    "}"
   ]
  },
  {
   "cell_type": "code",
   "execution_count": 14,
   "metadata": {
    "collapsed": true
   },
   "outputs": [],
   "source": [
    "j_data = json.dumps(s_data)"
   ]
  },
  {
   "cell_type": "code",
   "execution_count": 15,
   "metadata": {},
   "outputs": [
    {
     "data": {
      "text/plain": [
       "'{\"id\": 1, \"user\": 1, \"type\": \"standard\", \"latitude\": 38.1478, \"longitude\": -76.4275, \"orientation\": \"n\", \"shape\": \"star\", \"background_color\": \"orange\", \"alphanumeric\": \"O\", \"alphanumeric_color\": \"black\", \"description\": null, \"autonomous\": false}'"
      ]
     },
     "execution_count": 15,
     "metadata": {},
     "output_type": "execute_result"
    }
   ],
   "source": [
    "j_data\n"
   ]
  },
  {
   "cell_type": "code",
   "execution_count": 16,
   "metadata": {
    "collapsed": true
   },
   "outputs": [],
   "source": [
    "r5 = requests.post('http://httpbin.org/post', j_data)"
   ]
  },
  {
   "cell_type": "code",
   "execution_count": 17,
   "metadata": {},
   "outputs": [
    {
     "data": {
      "text/plain": [
       "<Response [200]>"
      ]
     },
     "execution_count": 17,
     "metadata": {},
     "output_type": "execute_result"
    }
   ],
   "source": [
    "r5"
   ]
  },
  {
   "cell_type": "code",
   "execution_count": 18,
   "metadata": {
    "collapsed": true
   },
   "outputs": [],
   "source": [
    "t_data = {\"latitude\":'38.149', \"longitude\":'-76.432', \"altitude_msl\":'100', \"uas_heading\":'90'}"
   ]
  },
  {
   "cell_type": "code",
   "execution_count": 19,
   "metadata": {},
   "outputs": [
    {
     "data": {
      "text/plain": [
       "{'altitude_msl': '100',\n",
       " 'latitude': '38.149',\n",
       " 'longitude': '-76.432',\n",
       " 'uas_heading': '90'}"
      ]
     },
     "execution_count": 19,
     "metadata": {},
     "output_type": "execute_result"
    }
   ],
   "source": [
    "t_data"
   ]
  },
  {
   "cell_type": "code",
   "execution_count": 20,
   "metadata": {
    "collapsed": true
   },
   "outputs": [],
   "source": [
    "r5 = s.post('http://localhost:8000/api/telemetry', json={\"key\": \"value\"})"
   ]
  },
  {
   "cell_type": "code",
   "execution_count": 21,
   "metadata": {},
   "outputs": [
    {
     "data": {
      "text/plain": [
       "400"
      ]
     },
     "execution_count": 21,
     "metadata": {},
     "output_type": "execute_result"
    }
   ],
   "source": [
    "r5.status_code"
   ]
  },
  {
   "cell_type": "code",
   "execution_count": 22,
   "metadata": {},
   "outputs": [
    {
     "data": {
      "text/plain": [
       "'Posting UAS position must contain POST parameters \"latitude\", \"longitude\", \"altitude_msl\", and \"uas_heading\".'"
      ]
     },
     "execution_count": 22,
     "metadata": {},
     "output_type": "execute_result"
    }
   ],
   "source": [
    "r5.text"
   ]
  },
  {
   "cell_type": "code",
   "execution_count": 23,
   "metadata": {},
   "outputs": [
    {
     "data": {
      "text/plain": [
       "<urllib3.response.HTTPResponse at 0x7fe54d2f3438>"
      ]
     },
     "execution_count": 23,
     "metadata": {},
     "output_type": "execute_result"
    }
   ],
   "source": [
    "r5.raw"
   ]
  },
  {
   "cell_type": "code",
   "execution_count": 1,
   "metadata": {
    "collapsed": true
   },
   "outputs": [],
   "source": [
    "import sys\n"
   ]
  },
  {
   "cell_type": "code",
   "execution_count": 5,
   "metadata": {
    "collapsed": true
   },
   "outputs": [],
   "source": []
  },
  {
   "cell_type": "code",
   "execution_count": 10,
   "metadata": {
    "collapsed": true
   },
   "outputs": [],
   "source": []
  },
  {
   "cell_type": "code",
   "execution_count": null,
   "metadata": {
    "collapsed": true
   },
   "outputs": [],
   "source": []
  },
  {
   "cell_type": "code",
   "execution_count": null,
   "metadata": {
    "collapsed": true
   },
   "outputs": [],
   "source": []
  }
 ],
 "metadata": {
  "kernelspec": {
   "display_name": "Python 3",
   "language": "python",
   "name": "python3"
  },
  "language_info": {
   "codemirror_mode": {
    "name": "ipython",
    "version": 3
   },
   "file_extension": ".py",
   "mimetype": "text/x-python",
   "name": "python",
   "nbconvert_exporter": "python",
   "pygments_lexer": "ipython3",
   "version": "3.6.3"
  }
 },
 "nbformat": 4,
 "nbformat_minor": 2
}
